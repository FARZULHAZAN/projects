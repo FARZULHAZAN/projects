{
 "cells": [
  {
   "cell_type": "code",
   "execution_count": 703,
   "id": "1784d263",
   "metadata": {},
   "outputs": [],
   "source": [
    "import pandas as pd\n",
    "import numpy as np\n",
    "import matplotlib.pyplot as plt\n",
    "import seaborn as c\n",
    "from sklearn.model_selection import train_test_split\n",
    "from sklearn.metrics import accuracy_score\n",
    "from sklearn.metrics import f1_score\n",
    "from imblearn.under_sampling import RandomUnderSampler\n",
    "from sklearn.metrics import precision_score\n",
    "from imblearn.over_sampling import RandomOverSampler\n",
    "from imblearn.pipeline import Pipeline\n",
    "from sklearn.model_selection import cross_val_score\n",
    "from sklearn.metrics import roc_auc_score\n",
    "from sklearn.model_selection import GridSearchCV\n",
    "import sklearn\n",
    "from sklearn.ensemble import AdaBoostClassifier\n",
    "from sklearn.svm import SVC\n",
    "import warnings\n",
    "warnings.filterwarnings('ignore')\n",
    "from sklearn.model_selection import StratifiedKFold"
   ]
  },
  {
   "cell_type": "code",
   "execution_count": 704,
   "id": "18552589",
   "metadata": {},
   "outputs": [],
   "source": [
    "df=pd.read_csv(\"C:\\\\Users\\\\91701\\\\Desktop\\\\Customer Conversion Prediction - Customer Conversion Prediction.csv\")"
   ]
  },
  {
   "cell_type": "code",
   "execution_count": 705,
   "id": "0eeb3227",
   "metadata": {},
   "outputs": [
    {
     "data": {
      "text/html": [
       "<div>\n",
       "<style scoped>\n",
       "    .dataframe tbody tr th:only-of-type {\n",
       "        vertical-align: middle;\n",
       "    }\n",
       "\n",
       "    .dataframe tbody tr th {\n",
       "        vertical-align: top;\n",
       "    }\n",
       "\n",
       "    .dataframe thead th {\n",
       "        text-align: right;\n",
       "    }\n",
       "</style>\n",
       "<table border=\"1\" class=\"dataframe\">\n",
       "  <thead>\n",
       "    <tr style=\"text-align: right;\">\n",
       "      <th></th>\n",
       "      <th>age</th>\n",
       "      <th>job</th>\n",
       "      <th>marital</th>\n",
       "      <th>education_qual</th>\n",
       "      <th>call_type</th>\n",
       "      <th>day</th>\n",
       "      <th>mon</th>\n",
       "      <th>dur</th>\n",
       "      <th>num_calls</th>\n",
       "      <th>prev_outcome</th>\n",
       "      <th>y</th>\n",
       "    </tr>\n",
       "  </thead>\n",
       "  <tbody>\n",
       "    <tr>\n",
       "      <th>0</th>\n",
       "      <td>58</td>\n",
       "      <td>management</td>\n",
       "      <td>married</td>\n",
       "      <td>tertiary</td>\n",
       "      <td>unknown</td>\n",
       "      <td>5</td>\n",
       "      <td>may</td>\n",
       "      <td>261</td>\n",
       "      <td>1</td>\n",
       "      <td>unknown</td>\n",
       "      <td>no</td>\n",
       "    </tr>\n",
       "    <tr>\n",
       "      <th>1</th>\n",
       "      <td>44</td>\n",
       "      <td>technician</td>\n",
       "      <td>single</td>\n",
       "      <td>secondary</td>\n",
       "      <td>unknown</td>\n",
       "      <td>5</td>\n",
       "      <td>may</td>\n",
       "      <td>151</td>\n",
       "      <td>1</td>\n",
       "      <td>unknown</td>\n",
       "      <td>no</td>\n",
       "    </tr>\n",
       "    <tr>\n",
       "      <th>2</th>\n",
       "      <td>33</td>\n",
       "      <td>entrepreneur</td>\n",
       "      <td>married</td>\n",
       "      <td>secondary</td>\n",
       "      <td>unknown</td>\n",
       "      <td>5</td>\n",
       "      <td>may</td>\n",
       "      <td>76</td>\n",
       "      <td>1</td>\n",
       "      <td>unknown</td>\n",
       "      <td>no</td>\n",
       "    </tr>\n",
       "    <tr>\n",
       "      <th>3</th>\n",
       "      <td>47</td>\n",
       "      <td>blue-collar</td>\n",
       "      <td>married</td>\n",
       "      <td>unknown</td>\n",
       "      <td>unknown</td>\n",
       "      <td>5</td>\n",
       "      <td>may</td>\n",
       "      <td>92</td>\n",
       "      <td>1</td>\n",
       "      <td>unknown</td>\n",
       "      <td>no</td>\n",
       "    </tr>\n",
       "    <tr>\n",
       "      <th>4</th>\n",
       "      <td>33</td>\n",
       "      <td>unknown</td>\n",
       "      <td>single</td>\n",
       "      <td>unknown</td>\n",
       "      <td>unknown</td>\n",
       "      <td>5</td>\n",
       "      <td>may</td>\n",
       "      <td>198</td>\n",
       "      <td>1</td>\n",
       "      <td>unknown</td>\n",
       "      <td>no</td>\n",
       "    </tr>\n",
       "    <tr>\n",
       "      <th>...</th>\n",
       "      <td>...</td>\n",
       "      <td>...</td>\n",
       "      <td>...</td>\n",
       "      <td>...</td>\n",
       "      <td>...</td>\n",
       "      <td>...</td>\n",
       "      <td>...</td>\n",
       "      <td>...</td>\n",
       "      <td>...</td>\n",
       "      <td>...</td>\n",
       "      <td>...</td>\n",
       "    </tr>\n",
       "    <tr>\n",
       "      <th>45206</th>\n",
       "      <td>51</td>\n",
       "      <td>technician</td>\n",
       "      <td>married</td>\n",
       "      <td>tertiary</td>\n",
       "      <td>cellular</td>\n",
       "      <td>17</td>\n",
       "      <td>nov</td>\n",
       "      <td>977</td>\n",
       "      <td>3</td>\n",
       "      <td>unknown</td>\n",
       "      <td>yes</td>\n",
       "    </tr>\n",
       "    <tr>\n",
       "      <th>45207</th>\n",
       "      <td>71</td>\n",
       "      <td>retired</td>\n",
       "      <td>divorced</td>\n",
       "      <td>primary</td>\n",
       "      <td>cellular</td>\n",
       "      <td>17</td>\n",
       "      <td>nov</td>\n",
       "      <td>456</td>\n",
       "      <td>2</td>\n",
       "      <td>unknown</td>\n",
       "      <td>yes</td>\n",
       "    </tr>\n",
       "    <tr>\n",
       "      <th>45208</th>\n",
       "      <td>72</td>\n",
       "      <td>retired</td>\n",
       "      <td>married</td>\n",
       "      <td>secondary</td>\n",
       "      <td>cellular</td>\n",
       "      <td>17</td>\n",
       "      <td>nov</td>\n",
       "      <td>1127</td>\n",
       "      <td>5</td>\n",
       "      <td>success</td>\n",
       "      <td>yes</td>\n",
       "    </tr>\n",
       "    <tr>\n",
       "      <th>45209</th>\n",
       "      <td>57</td>\n",
       "      <td>blue-collar</td>\n",
       "      <td>married</td>\n",
       "      <td>secondary</td>\n",
       "      <td>telephone</td>\n",
       "      <td>17</td>\n",
       "      <td>nov</td>\n",
       "      <td>508</td>\n",
       "      <td>4</td>\n",
       "      <td>unknown</td>\n",
       "      <td>no</td>\n",
       "    </tr>\n",
       "    <tr>\n",
       "      <th>45210</th>\n",
       "      <td>37</td>\n",
       "      <td>entrepreneur</td>\n",
       "      <td>married</td>\n",
       "      <td>secondary</td>\n",
       "      <td>cellular</td>\n",
       "      <td>17</td>\n",
       "      <td>nov</td>\n",
       "      <td>361</td>\n",
       "      <td>2</td>\n",
       "      <td>other</td>\n",
       "      <td>no</td>\n",
       "    </tr>\n",
       "  </tbody>\n",
       "</table>\n",
       "<p>45211 rows × 11 columns</p>\n",
       "</div>"
      ],
      "text/plain": [
       "       age           job   marital education_qual  call_type  day  mon   dur  \\\n",
       "0       58    management   married       tertiary    unknown    5  may   261   \n",
       "1       44    technician    single      secondary    unknown    5  may   151   \n",
       "2       33  entrepreneur   married      secondary    unknown    5  may    76   \n",
       "3       47   blue-collar   married        unknown    unknown    5  may    92   \n",
       "4       33       unknown    single        unknown    unknown    5  may   198   \n",
       "...    ...           ...       ...            ...        ...  ...  ...   ...   \n",
       "45206   51    technician   married       tertiary   cellular   17  nov   977   \n",
       "45207   71       retired  divorced        primary   cellular   17  nov   456   \n",
       "45208   72       retired   married      secondary   cellular   17  nov  1127   \n",
       "45209   57   blue-collar   married      secondary  telephone   17  nov   508   \n",
       "45210   37  entrepreneur   married      secondary   cellular   17  nov   361   \n",
       "\n",
       "       num_calls prev_outcome    y  \n",
       "0              1      unknown   no  \n",
       "1              1      unknown   no  \n",
       "2              1      unknown   no  \n",
       "3              1      unknown   no  \n",
       "4              1      unknown   no  \n",
       "...          ...          ...  ...  \n",
       "45206          3      unknown  yes  \n",
       "45207          2      unknown  yes  \n",
       "45208          5      success  yes  \n",
       "45209          4      unknown   no  \n",
       "45210          2        other   no  \n",
       "\n",
       "[45211 rows x 11 columns]"
      ]
     },
     "execution_count": 705,
     "metadata": {},
     "output_type": "execute_result"
    }
   ],
   "source": [
    "df"
   ]
  },
  {
   "cell_type": "code",
   "execution_count": 706,
   "id": "7a971d9d",
   "metadata": {},
   "outputs": [
    {
     "data": {
      "text/plain": [
       "Index(['age', 'job', 'marital', 'education_qual', 'call_type', 'day', 'mon',\n",
       "       'dur', 'num_calls', 'prev_outcome', 'y'],\n",
       "      dtype='object')"
      ]
     },
     "execution_count": 706,
     "metadata": {},
     "output_type": "execute_result"
    }
   ],
   "source": [
    "df.columns"
   ]
  },
  {
   "cell_type": "raw",
   "id": "de6bc052",
   "metadata": {},
   "source": [
    "we dont need call type column it doesnt matter in predicting the outcome"
   ]
  },
  {
   "cell_type": "code",
   "execution_count": 707,
   "id": "6035aff1",
   "metadata": {},
   "outputs": [],
   "source": [
    "df=df.drop(columns=\"call_type\")"
   ]
  },
  {
   "cell_type": "code",
   "execution_count": 708,
   "id": "149f6b67",
   "metadata": {},
   "outputs": [
    {
     "data": {
      "text/html": [
       "<div>\n",
       "<style scoped>\n",
       "    .dataframe tbody tr th:only-of-type {\n",
       "        vertical-align: middle;\n",
       "    }\n",
       "\n",
       "    .dataframe tbody tr th {\n",
       "        vertical-align: top;\n",
       "    }\n",
       "\n",
       "    .dataframe thead th {\n",
       "        text-align: right;\n",
       "    }\n",
       "</style>\n",
       "<table border=\"1\" class=\"dataframe\">\n",
       "  <thead>\n",
       "    <tr style=\"text-align: right;\">\n",
       "      <th></th>\n",
       "      <th>age</th>\n",
       "      <th>job</th>\n",
       "      <th>marital</th>\n",
       "      <th>education_qual</th>\n",
       "      <th>day</th>\n",
       "      <th>mon</th>\n",
       "      <th>dur</th>\n",
       "      <th>num_calls</th>\n",
       "      <th>prev_outcome</th>\n",
       "      <th>y</th>\n",
       "    </tr>\n",
       "  </thead>\n",
       "  <tbody>\n",
       "    <tr>\n",
       "      <th>0</th>\n",
       "      <td>58</td>\n",
       "      <td>management</td>\n",
       "      <td>married</td>\n",
       "      <td>tertiary</td>\n",
       "      <td>5</td>\n",
       "      <td>may</td>\n",
       "      <td>261</td>\n",
       "      <td>1</td>\n",
       "      <td>unknown</td>\n",
       "      <td>no</td>\n",
       "    </tr>\n",
       "    <tr>\n",
       "      <th>1</th>\n",
       "      <td>44</td>\n",
       "      <td>technician</td>\n",
       "      <td>single</td>\n",
       "      <td>secondary</td>\n",
       "      <td>5</td>\n",
       "      <td>may</td>\n",
       "      <td>151</td>\n",
       "      <td>1</td>\n",
       "      <td>unknown</td>\n",
       "      <td>no</td>\n",
       "    </tr>\n",
       "    <tr>\n",
       "      <th>2</th>\n",
       "      <td>33</td>\n",
       "      <td>entrepreneur</td>\n",
       "      <td>married</td>\n",
       "      <td>secondary</td>\n",
       "      <td>5</td>\n",
       "      <td>may</td>\n",
       "      <td>76</td>\n",
       "      <td>1</td>\n",
       "      <td>unknown</td>\n",
       "      <td>no</td>\n",
       "    </tr>\n",
       "    <tr>\n",
       "      <th>3</th>\n",
       "      <td>47</td>\n",
       "      <td>blue-collar</td>\n",
       "      <td>married</td>\n",
       "      <td>unknown</td>\n",
       "      <td>5</td>\n",
       "      <td>may</td>\n",
       "      <td>92</td>\n",
       "      <td>1</td>\n",
       "      <td>unknown</td>\n",
       "      <td>no</td>\n",
       "    </tr>\n",
       "    <tr>\n",
       "      <th>4</th>\n",
       "      <td>33</td>\n",
       "      <td>unknown</td>\n",
       "      <td>single</td>\n",
       "      <td>unknown</td>\n",
       "      <td>5</td>\n",
       "      <td>may</td>\n",
       "      <td>198</td>\n",
       "      <td>1</td>\n",
       "      <td>unknown</td>\n",
       "      <td>no</td>\n",
       "    </tr>\n",
       "    <tr>\n",
       "      <th>...</th>\n",
       "      <td>...</td>\n",
       "      <td>...</td>\n",
       "      <td>...</td>\n",
       "      <td>...</td>\n",
       "      <td>...</td>\n",
       "      <td>...</td>\n",
       "      <td>...</td>\n",
       "      <td>...</td>\n",
       "      <td>...</td>\n",
       "      <td>...</td>\n",
       "    </tr>\n",
       "    <tr>\n",
       "      <th>45206</th>\n",
       "      <td>51</td>\n",
       "      <td>technician</td>\n",
       "      <td>married</td>\n",
       "      <td>tertiary</td>\n",
       "      <td>17</td>\n",
       "      <td>nov</td>\n",
       "      <td>977</td>\n",
       "      <td>3</td>\n",
       "      <td>unknown</td>\n",
       "      <td>yes</td>\n",
       "    </tr>\n",
       "    <tr>\n",
       "      <th>45207</th>\n",
       "      <td>71</td>\n",
       "      <td>retired</td>\n",
       "      <td>divorced</td>\n",
       "      <td>primary</td>\n",
       "      <td>17</td>\n",
       "      <td>nov</td>\n",
       "      <td>456</td>\n",
       "      <td>2</td>\n",
       "      <td>unknown</td>\n",
       "      <td>yes</td>\n",
       "    </tr>\n",
       "    <tr>\n",
       "      <th>45208</th>\n",
       "      <td>72</td>\n",
       "      <td>retired</td>\n",
       "      <td>married</td>\n",
       "      <td>secondary</td>\n",
       "      <td>17</td>\n",
       "      <td>nov</td>\n",
       "      <td>1127</td>\n",
       "      <td>5</td>\n",
       "      <td>success</td>\n",
       "      <td>yes</td>\n",
       "    </tr>\n",
       "    <tr>\n",
       "      <th>45209</th>\n",
       "      <td>57</td>\n",
       "      <td>blue-collar</td>\n",
       "      <td>married</td>\n",
       "      <td>secondary</td>\n",
       "      <td>17</td>\n",
       "      <td>nov</td>\n",
       "      <td>508</td>\n",
       "      <td>4</td>\n",
       "      <td>unknown</td>\n",
       "      <td>no</td>\n",
       "    </tr>\n",
       "    <tr>\n",
       "      <th>45210</th>\n",
       "      <td>37</td>\n",
       "      <td>entrepreneur</td>\n",
       "      <td>married</td>\n",
       "      <td>secondary</td>\n",
       "      <td>17</td>\n",
       "      <td>nov</td>\n",
       "      <td>361</td>\n",
       "      <td>2</td>\n",
       "      <td>other</td>\n",
       "      <td>no</td>\n",
       "    </tr>\n",
       "  </tbody>\n",
       "</table>\n",
       "<p>45211 rows × 10 columns</p>\n",
       "</div>"
      ],
      "text/plain": [
       "       age           job   marital education_qual  day  mon   dur  num_calls  \\\n",
       "0       58    management   married       tertiary    5  may   261          1   \n",
       "1       44    technician    single      secondary    5  may   151          1   \n",
       "2       33  entrepreneur   married      secondary    5  may    76          1   \n",
       "3       47   blue-collar   married        unknown    5  may    92          1   \n",
       "4       33       unknown    single        unknown    5  may   198          1   \n",
       "...    ...           ...       ...            ...  ...  ...   ...        ...   \n",
       "45206   51    technician   married       tertiary   17  nov   977          3   \n",
       "45207   71       retired  divorced        primary   17  nov   456          2   \n",
       "45208   72       retired   married      secondary   17  nov  1127          5   \n",
       "45209   57   blue-collar   married      secondary   17  nov   508          4   \n",
       "45210   37  entrepreneur   married      secondary   17  nov   361          2   \n",
       "\n",
       "      prev_outcome    y  \n",
       "0          unknown   no  \n",
       "1          unknown   no  \n",
       "2          unknown   no  \n",
       "3          unknown   no  \n",
       "4          unknown   no  \n",
       "...            ...  ...  \n",
       "45206      unknown  yes  \n",
       "45207      unknown  yes  \n",
       "45208      success  yes  \n",
       "45209      unknown   no  \n",
       "45210        other   no  \n",
       "\n",
       "[45211 rows x 10 columns]"
      ]
     },
     "execution_count": 708,
     "metadata": {},
     "output_type": "execute_result"
    }
   ],
   "source": [
    "df"
   ]
  },
  {
   "cell_type": "markdown",
   "id": "f36c2cd5",
   "metadata": {},
   "source": [
    "checking if any null values are there"
   ]
  },
  {
   "cell_type": "code",
   "execution_count": 709,
   "id": "954d8ca2",
   "metadata": {},
   "outputs": [
    {
     "data": {
      "text/plain": [
       "age               0\n",
       "job               0\n",
       "marital           0\n",
       "education_qual    0\n",
       "day               0\n",
       "mon               0\n",
       "dur               0\n",
       "num_calls         0\n",
       "prev_outcome      0\n",
       "y                 0\n",
       "dtype: int64"
      ]
     },
     "execution_count": 709,
     "metadata": {},
     "output_type": "execute_result"
    }
   ],
   "source": [
    "df.isnull().sum()"
   ]
  },
  {
   "cell_type": "markdown",
   "id": "10ce05e2",
   "metadata": {},
   "source": [
    "Datatype checking"
   ]
  },
  {
   "cell_type": "code",
   "execution_count": 710,
   "id": "1f1a0d7f",
   "metadata": {},
   "outputs": [
    {
     "data": {
      "text/plain": [
       "age                int64\n",
       "job               object\n",
       "marital           object\n",
       "education_qual    object\n",
       "day                int64\n",
       "mon               object\n",
       "dur                int64\n",
       "num_calls          int64\n",
       "prev_outcome      object\n",
       "y                 object\n",
       "dtype: object"
      ]
     },
     "execution_count": 710,
     "metadata": {},
     "output_type": "execute_result"
    }
   ],
   "source": [
    "df.dtypes"
   ]
  },
  {
   "cell_type": "code",
   "execution_count": 711,
   "id": "b2d1ea5a",
   "metadata": {},
   "outputs": [
    {
     "data": {
      "text/html": [
       "<div>\n",
       "<style scoped>\n",
       "    .dataframe tbody tr th:only-of-type {\n",
       "        vertical-align: middle;\n",
       "    }\n",
       "\n",
       "    .dataframe tbody tr th {\n",
       "        vertical-align: top;\n",
       "    }\n",
       "\n",
       "    .dataframe thead th {\n",
       "        text-align: right;\n",
       "    }\n",
       "</style>\n",
       "<table border=\"1\" class=\"dataframe\">\n",
       "  <thead>\n",
       "    <tr style=\"text-align: right;\">\n",
       "      <th></th>\n",
       "      <th>object</th>\n",
       "      <th>int64</th>\n",
       "    </tr>\n",
       "  </thead>\n",
       "  <tbody>\n",
       "    <tr>\n",
       "      <th>0</th>\n",
       "      <td>6</td>\n",
       "      <td>4</td>\n",
       "    </tr>\n",
       "  </tbody>\n",
       "</table>\n",
       "</div>"
      ],
      "text/plain": [
       "   object  int64\n",
       "0       6      4"
      ]
     },
     "execution_count": 711,
     "metadata": {},
     "output_type": "execute_result"
    }
   ],
   "source": [
    "pd.DataFrame(df.dtypes.value_counts()).T"
   ]
  },
  {
   "cell_type": "code",
   "execution_count": 712,
   "id": "fe3af3c2",
   "metadata": {},
   "outputs": [
    {
     "data": {
      "text/plain": [
       "['age', 'day', 'dur', 'num_calls']"
      ]
     },
     "execution_count": 712,
     "metadata": {},
     "output_type": "execute_result"
    }
   ],
   "source": [
    "intcolumns=[i for i in df.columns if df[i].dtype=='int64']\n",
    "intcolumns"
   ]
  },
  {
   "cell_type": "code",
   "execution_count": 713,
   "id": "23044321",
   "metadata": {},
   "outputs": [
    {
     "data": {
      "text/plain": [
       "['job', 'marital', 'education_qual', 'mon', 'prev_outcome', 'y']"
      ]
     },
     "execution_count": 713,
     "metadata": {},
     "output_type": "execute_result"
    }
   ],
   "source": [
    "objectcolumns=[i for i in df.columns if df[i].dtype=='object']\n",
    "objectcolumns"
   ]
  },
  {
   "cell_type": "code",
   "execution_count": 714,
   "id": "3a5ad30a",
   "metadata": {},
   "outputs": [
    {
     "name": "stdout",
     "output_type": "stream",
     "text": [
      "job is divided into 12  categories\n",
      "marital is divided into 3  categories\n",
      "education_qual is divided into 4  categories\n",
      "mon is divided into 12  categories\n",
      "prev_outcome is divided into 4  categories\n",
      "y is divided into 2  categories\n"
     ]
    }
   ],
   "source": [
    "for i in objectcolumns:\n",
    "    print(i,'is divided into',len(df[i].value_counts()),' categories')"
   ]
  },
  {
   "cell_type": "code",
   "execution_count": 715,
   "id": "e11aa2b1",
   "metadata": {},
   "outputs": [
    {
     "name": "stdout",
     "output_type": "stream",
     "text": [
      "age is divided into 77 categories\n",
      "day is divided into 31 categories\n",
      "dur is divided into 1573 categories\n",
      "num_calls is divided into 48 categories\n"
     ]
    }
   ],
   "source": [
    "for i in intcolumns:\n",
    "    print(i,'is divided into', len(df[i].value_counts()),\"categories\")"
   ]
  },
  {
   "cell_type": "code",
   "execution_count": 720,
   "id": "ef947714",
   "metadata": {},
   "outputs": [
    {
     "data": {
      "text/plain": [
       "blue-collar      10972\n",
       "management        9458\n",
       "technician        7597\n",
       "admin.            5171\n",
       "services          4154\n",
       "retired           2264\n",
       "self-employed     1579\n",
       "entrepreneur      1487\n",
       "unemployed        1303\n",
       "student            938\n",
       "Name: job, dtype: int64"
      ]
     },
     "execution_count": 720,
     "metadata": {},
     "output_type": "execute_result"
    }
   ],
   "source": [
    "df[\"job\"].value_counts()"
   ]
  },
  {
   "cell_type": "raw",
   "id": "6c9ebb86",
   "metadata": {},
   "source": [
    "housemaid job can be considered as blue-collar job\n",
    "we can drop unknown values as it only have less than 1% of the data"
   ]
  },
  {
   "cell_type": "code",
   "execution_count": 718,
   "id": "81f81cc6",
   "metadata": {},
   "outputs": [],
   "source": [
    "df=df[df['job']!='unknown']"
   ]
  },
  {
   "cell_type": "code",
   "execution_count": 719,
   "id": "fe0916fe",
   "metadata": {},
   "outputs": [],
   "source": [
    "df['job']=df['job'].replace({'housemaid':'blue-collar'})"
   ]
  },
  {
   "cell_type": "code",
   "execution_count": 721,
   "id": "1bd01de3",
   "metadata": {},
   "outputs": [
    {
     "data": {
      "text/plain": [
       "married     27011\n",
       "single      12722\n",
       "divorced     5190\n",
       "Name: marital, dtype: int64"
      ]
     },
     "execution_count": 721,
     "metadata": {},
     "output_type": "execute_result"
    }
   ],
   "source": [
    "df['marital'].value_counts()"
   ]
  },
  {
   "cell_type": "code",
   "execution_count": 722,
   "id": "3d8e5fb1",
   "metadata": {},
   "outputs": [
    {
     "data": {
      "text/plain": [
       "secondary    23131\n",
       "tertiary     13262\n",
       "primary       6800\n",
       "unknown       1730\n",
       "Name: education_qual, dtype: int64"
      ]
     },
     "execution_count": 722,
     "metadata": {},
     "output_type": "execute_result"
    }
   ],
   "source": [
    "df['education_qual'].value_counts()"
   ]
  },
  {
   "cell_type": "raw",
   "id": "427bbb83",
   "metadata": {},
   "source": [
    "Here also we can drop unknown values"
   ]
  },
  {
   "cell_type": "code",
   "execution_count": 723,
   "id": "381a8883",
   "metadata": {},
   "outputs": [],
   "source": [
    "df=df[df['education_qual']!='unknown']"
   ]
  },
  {
   "cell_type": "code",
   "execution_count": 724,
   "id": "b9338231",
   "metadata": {},
   "outputs": [
    {
     "data": {
      "text/html": [
       "<div>\n",
       "<style scoped>\n",
       "    .dataframe tbody tr th:only-of-type {\n",
       "        vertical-align: middle;\n",
       "    }\n",
       "\n",
       "    .dataframe tbody tr th {\n",
       "        vertical-align: top;\n",
       "    }\n",
       "\n",
       "    .dataframe thead th {\n",
       "        text-align: right;\n",
       "    }\n",
       "</style>\n",
       "<table border=\"1\" class=\"dataframe\">\n",
       "  <thead>\n",
       "    <tr style=\"text-align: right;\">\n",
       "      <th></th>\n",
       "      <th>age</th>\n",
       "      <th>job</th>\n",
       "      <th>marital</th>\n",
       "      <th>education_qual</th>\n",
       "      <th>day</th>\n",
       "      <th>mon</th>\n",
       "      <th>dur</th>\n",
       "      <th>num_calls</th>\n",
       "      <th>prev_outcome</th>\n",
       "      <th>y</th>\n",
       "    </tr>\n",
       "  </thead>\n",
       "  <tbody>\n",
       "    <tr>\n",
       "      <th>0</th>\n",
       "      <td>58</td>\n",
       "      <td>management</td>\n",
       "      <td>married</td>\n",
       "      <td>tertiary</td>\n",
       "      <td>5</td>\n",
       "      <td>may</td>\n",
       "      <td>261</td>\n",
       "      <td>1</td>\n",
       "      <td>unknown</td>\n",
       "      <td>no</td>\n",
       "    </tr>\n",
       "    <tr>\n",
       "      <th>1</th>\n",
       "      <td>44</td>\n",
       "      <td>technician</td>\n",
       "      <td>single</td>\n",
       "      <td>secondary</td>\n",
       "      <td>5</td>\n",
       "      <td>may</td>\n",
       "      <td>151</td>\n",
       "      <td>1</td>\n",
       "      <td>unknown</td>\n",
       "      <td>no</td>\n",
       "    </tr>\n",
       "    <tr>\n",
       "      <th>2</th>\n",
       "      <td>33</td>\n",
       "      <td>entrepreneur</td>\n",
       "      <td>married</td>\n",
       "      <td>secondary</td>\n",
       "      <td>5</td>\n",
       "      <td>may</td>\n",
       "      <td>76</td>\n",
       "      <td>1</td>\n",
       "      <td>unknown</td>\n",
       "      <td>no</td>\n",
       "    </tr>\n",
       "    <tr>\n",
       "      <th>5</th>\n",
       "      <td>35</td>\n",
       "      <td>management</td>\n",
       "      <td>married</td>\n",
       "      <td>tertiary</td>\n",
       "      <td>5</td>\n",
       "      <td>may</td>\n",
       "      <td>139</td>\n",
       "      <td>1</td>\n",
       "      <td>unknown</td>\n",
       "      <td>no</td>\n",
       "    </tr>\n",
       "    <tr>\n",
       "      <th>6</th>\n",
       "      <td>28</td>\n",
       "      <td>management</td>\n",
       "      <td>single</td>\n",
       "      <td>tertiary</td>\n",
       "      <td>5</td>\n",
       "      <td>may</td>\n",
       "      <td>217</td>\n",
       "      <td>1</td>\n",
       "      <td>unknown</td>\n",
       "      <td>no</td>\n",
       "    </tr>\n",
       "    <tr>\n",
       "      <th>...</th>\n",
       "      <td>...</td>\n",
       "      <td>...</td>\n",
       "      <td>...</td>\n",
       "      <td>...</td>\n",
       "      <td>...</td>\n",
       "      <td>...</td>\n",
       "      <td>...</td>\n",
       "      <td>...</td>\n",
       "      <td>...</td>\n",
       "      <td>...</td>\n",
       "    </tr>\n",
       "    <tr>\n",
       "      <th>45206</th>\n",
       "      <td>51</td>\n",
       "      <td>technician</td>\n",
       "      <td>married</td>\n",
       "      <td>tertiary</td>\n",
       "      <td>17</td>\n",
       "      <td>nov</td>\n",
       "      <td>977</td>\n",
       "      <td>3</td>\n",
       "      <td>unknown</td>\n",
       "      <td>yes</td>\n",
       "    </tr>\n",
       "    <tr>\n",
       "      <th>45207</th>\n",
       "      <td>71</td>\n",
       "      <td>retired</td>\n",
       "      <td>divorced</td>\n",
       "      <td>primary</td>\n",
       "      <td>17</td>\n",
       "      <td>nov</td>\n",
       "      <td>456</td>\n",
       "      <td>2</td>\n",
       "      <td>unknown</td>\n",
       "      <td>yes</td>\n",
       "    </tr>\n",
       "    <tr>\n",
       "      <th>45208</th>\n",
       "      <td>72</td>\n",
       "      <td>retired</td>\n",
       "      <td>married</td>\n",
       "      <td>secondary</td>\n",
       "      <td>17</td>\n",
       "      <td>nov</td>\n",
       "      <td>1127</td>\n",
       "      <td>5</td>\n",
       "      <td>success</td>\n",
       "      <td>yes</td>\n",
       "    </tr>\n",
       "    <tr>\n",
       "      <th>45209</th>\n",
       "      <td>57</td>\n",
       "      <td>blue-collar</td>\n",
       "      <td>married</td>\n",
       "      <td>secondary</td>\n",
       "      <td>17</td>\n",
       "      <td>nov</td>\n",
       "      <td>508</td>\n",
       "      <td>4</td>\n",
       "      <td>unknown</td>\n",
       "      <td>no</td>\n",
       "    </tr>\n",
       "    <tr>\n",
       "      <th>45210</th>\n",
       "      <td>37</td>\n",
       "      <td>entrepreneur</td>\n",
       "      <td>married</td>\n",
       "      <td>secondary</td>\n",
       "      <td>17</td>\n",
       "      <td>nov</td>\n",
       "      <td>361</td>\n",
       "      <td>2</td>\n",
       "      <td>other</td>\n",
       "      <td>no</td>\n",
       "    </tr>\n",
       "  </tbody>\n",
       "</table>\n",
       "<p>43193 rows × 10 columns</p>\n",
       "</div>"
      ],
      "text/plain": [
       "       age           job   marital education_qual  day  mon   dur  num_calls  \\\n",
       "0       58    management   married       tertiary    5  may   261          1   \n",
       "1       44    technician    single      secondary    5  may   151          1   \n",
       "2       33  entrepreneur   married      secondary    5  may    76          1   \n",
       "5       35    management   married       tertiary    5  may   139          1   \n",
       "6       28    management    single       tertiary    5  may   217          1   \n",
       "...    ...           ...       ...            ...  ...  ...   ...        ...   \n",
       "45206   51    technician   married       tertiary   17  nov   977          3   \n",
       "45207   71       retired  divorced        primary   17  nov   456          2   \n",
       "45208   72       retired   married      secondary   17  nov  1127          5   \n",
       "45209   57   blue-collar   married      secondary   17  nov   508          4   \n",
       "45210   37  entrepreneur   married      secondary   17  nov   361          2   \n",
       "\n",
       "      prev_outcome    y  \n",
       "0          unknown   no  \n",
       "1          unknown   no  \n",
       "2          unknown   no  \n",
       "5          unknown   no  \n",
       "6          unknown   no  \n",
       "...            ...  ...  \n",
       "45206      unknown  yes  \n",
       "45207      unknown  yes  \n",
       "45208      success  yes  \n",
       "45209      unknown   no  \n",
       "45210        other   no  \n",
       "\n",
       "[43193 rows x 10 columns]"
      ]
     },
     "execution_count": 724,
     "metadata": {},
     "output_type": "execute_result"
    }
   ],
   "source": [
    "df"
   ]
  },
  {
   "cell_type": "code",
   "execution_count": 725,
   "id": "d28afd07",
   "metadata": {},
   "outputs": [
    {
     "data": {
      "text/plain": [
       "may    13192\n",
       "jul     6601\n",
       "aug     6037\n",
       "jun     4980\n",
       "nov     3842\n",
       "apr     2820\n",
       "feb     2533\n",
       "jan     1318\n",
       "oct      690\n",
       "sep      532\n",
       "mar      448\n",
       "dec      200\n",
       "Name: mon, dtype: int64"
      ]
     },
     "execution_count": 725,
     "metadata": {},
     "output_type": "execute_result"
    }
   ],
   "source": [
    "df['mon'].value_counts()"
   ]
  },
  {
   "cell_type": "code",
   "execution_count": 726,
   "id": "467f2007",
   "metadata": {},
   "outputs": [
    {
     "data": {
      "text/plain": [
       "unknown    35286\n",
       "failure     4709\n",
       "other       1774\n",
       "success     1424\n",
       "Name: prev_outcome, dtype: int64"
      ]
     },
     "execution_count": 726,
     "metadata": {},
     "output_type": "execute_result"
    }
   ],
   "source": [
    "df['prev_outcome'].value_counts()"
   ]
  },
  {
   "cell_type": "raw",
   "id": "f8f8494c",
   "metadata": {},
   "source": [
    "Here, we can drop prev_outcome column as it contain more unknown values"
   ]
  },
  {
   "cell_type": "code",
   "execution_count": 727,
   "id": "963094fc",
   "metadata": {},
   "outputs": [],
   "source": [
    "df=df.drop(['prev_outcome'],axis=1)"
   ]
  },
  {
   "cell_type": "code",
   "execution_count": 728,
   "id": "aecef071",
   "metadata": {},
   "outputs": [
    {
     "data": {
      "text/html": [
       "<div>\n",
       "<style scoped>\n",
       "    .dataframe tbody tr th:only-of-type {\n",
       "        vertical-align: middle;\n",
       "    }\n",
       "\n",
       "    .dataframe tbody tr th {\n",
       "        vertical-align: top;\n",
       "    }\n",
       "\n",
       "    .dataframe thead th {\n",
       "        text-align: right;\n",
       "    }\n",
       "</style>\n",
       "<table border=\"1\" class=\"dataframe\">\n",
       "  <thead>\n",
       "    <tr style=\"text-align: right;\">\n",
       "      <th></th>\n",
       "      <th>age</th>\n",
       "      <th>job</th>\n",
       "      <th>marital</th>\n",
       "      <th>education_qual</th>\n",
       "      <th>day</th>\n",
       "      <th>mon</th>\n",
       "      <th>dur</th>\n",
       "      <th>num_calls</th>\n",
       "      <th>y</th>\n",
       "    </tr>\n",
       "  </thead>\n",
       "  <tbody>\n",
       "    <tr>\n",
       "      <th>0</th>\n",
       "      <td>58</td>\n",
       "      <td>management</td>\n",
       "      <td>married</td>\n",
       "      <td>tertiary</td>\n",
       "      <td>5</td>\n",
       "      <td>may</td>\n",
       "      <td>261</td>\n",
       "      <td>1</td>\n",
       "      <td>no</td>\n",
       "    </tr>\n",
       "    <tr>\n",
       "      <th>1</th>\n",
       "      <td>44</td>\n",
       "      <td>technician</td>\n",
       "      <td>single</td>\n",
       "      <td>secondary</td>\n",
       "      <td>5</td>\n",
       "      <td>may</td>\n",
       "      <td>151</td>\n",
       "      <td>1</td>\n",
       "      <td>no</td>\n",
       "    </tr>\n",
       "    <tr>\n",
       "      <th>2</th>\n",
       "      <td>33</td>\n",
       "      <td>entrepreneur</td>\n",
       "      <td>married</td>\n",
       "      <td>secondary</td>\n",
       "      <td>5</td>\n",
       "      <td>may</td>\n",
       "      <td>76</td>\n",
       "      <td>1</td>\n",
       "      <td>no</td>\n",
       "    </tr>\n",
       "    <tr>\n",
       "      <th>5</th>\n",
       "      <td>35</td>\n",
       "      <td>management</td>\n",
       "      <td>married</td>\n",
       "      <td>tertiary</td>\n",
       "      <td>5</td>\n",
       "      <td>may</td>\n",
       "      <td>139</td>\n",
       "      <td>1</td>\n",
       "      <td>no</td>\n",
       "    </tr>\n",
       "    <tr>\n",
       "      <th>6</th>\n",
       "      <td>28</td>\n",
       "      <td>management</td>\n",
       "      <td>single</td>\n",
       "      <td>tertiary</td>\n",
       "      <td>5</td>\n",
       "      <td>may</td>\n",
       "      <td>217</td>\n",
       "      <td>1</td>\n",
       "      <td>no</td>\n",
       "    </tr>\n",
       "    <tr>\n",
       "      <th>...</th>\n",
       "      <td>...</td>\n",
       "      <td>...</td>\n",
       "      <td>...</td>\n",
       "      <td>...</td>\n",
       "      <td>...</td>\n",
       "      <td>...</td>\n",
       "      <td>...</td>\n",
       "      <td>...</td>\n",
       "      <td>...</td>\n",
       "    </tr>\n",
       "    <tr>\n",
       "      <th>45206</th>\n",
       "      <td>51</td>\n",
       "      <td>technician</td>\n",
       "      <td>married</td>\n",
       "      <td>tertiary</td>\n",
       "      <td>17</td>\n",
       "      <td>nov</td>\n",
       "      <td>977</td>\n",
       "      <td>3</td>\n",
       "      <td>yes</td>\n",
       "    </tr>\n",
       "    <tr>\n",
       "      <th>45207</th>\n",
       "      <td>71</td>\n",
       "      <td>retired</td>\n",
       "      <td>divorced</td>\n",
       "      <td>primary</td>\n",
       "      <td>17</td>\n",
       "      <td>nov</td>\n",
       "      <td>456</td>\n",
       "      <td>2</td>\n",
       "      <td>yes</td>\n",
       "    </tr>\n",
       "    <tr>\n",
       "      <th>45208</th>\n",
       "      <td>72</td>\n",
       "      <td>retired</td>\n",
       "      <td>married</td>\n",
       "      <td>secondary</td>\n",
       "      <td>17</td>\n",
       "      <td>nov</td>\n",
       "      <td>1127</td>\n",
       "      <td>5</td>\n",
       "      <td>yes</td>\n",
       "    </tr>\n",
       "    <tr>\n",
       "      <th>45209</th>\n",
       "      <td>57</td>\n",
       "      <td>blue-collar</td>\n",
       "      <td>married</td>\n",
       "      <td>secondary</td>\n",
       "      <td>17</td>\n",
       "      <td>nov</td>\n",
       "      <td>508</td>\n",
       "      <td>4</td>\n",
       "      <td>no</td>\n",
       "    </tr>\n",
       "    <tr>\n",
       "      <th>45210</th>\n",
       "      <td>37</td>\n",
       "      <td>entrepreneur</td>\n",
       "      <td>married</td>\n",
       "      <td>secondary</td>\n",
       "      <td>17</td>\n",
       "      <td>nov</td>\n",
       "      <td>361</td>\n",
       "      <td>2</td>\n",
       "      <td>no</td>\n",
       "    </tr>\n",
       "  </tbody>\n",
       "</table>\n",
       "<p>43193 rows × 9 columns</p>\n",
       "</div>"
      ],
      "text/plain": [
       "       age           job   marital education_qual  day  mon   dur  num_calls  \\\n",
       "0       58    management   married       tertiary    5  may   261          1   \n",
       "1       44    technician    single      secondary    5  may   151          1   \n",
       "2       33  entrepreneur   married      secondary    5  may    76          1   \n",
       "5       35    management   married       tertiary    5  may   139          1   \n",
       "6       28    management    single       tertiary    5  may   217          1   \n",
       "...    ...           ...       ...            ...  ...  ...   ...        ...   \n",
       "45206   51    technician   married       tertiary   17  nov   977          3   \n",
       "45207   71       retired  divorced        primary   17  nov   456          2   \n",
       "45208   72       retired   married      secondary   17  nov  1127          5   \n",
       "45209   57   blue-collar   married      secondary   17  nov   508          4   \n",
       "45210   37  entrepreneur   married      secondary   17  nov   361          2   \n",
       "\n",
       "         y  \n",
       "0       no  \n",
       "1       no  \n",
       "2       no  \n",
       "5       no  \n",
       "6       no  \n",
       "...    ...  \n",
       "45206  yes  \n",
       "45207  yes  \n",
       "45208  yes  \n",
       "45209   no  \n",
       "45210   no  \n",
       "\n",
       "[43193 rows x 9 columns]"
      ]
     },
     "execution_count": 728,
     "metadata": {},
     "output_type": "execute_result"
    }
   ],
   "source": [
    "df"
   ]
  },
  {
   "cell_type": "code",
   "execution_count": 729,
   "id": "22e5b209",
   "metadata": {},
   "outputs": [
    {
     "data": {
      "text/plain": [
       "no     38172\n",
       "yes     5021\n",
       "Name: y, dtype: int64"
      ]
     },
     "execution_count": 729,
     "metadata": {},
     "output_type": "execute_result"
    }
   ],
   "source": [
    "df['y'].value_counts()"
   ]
  },
  {
   "cell_type": "code",
   "execution_count": 730,
   "id": "1d07c457",
   "metadata": {},
   "outputs": [
    {
     "name": "stdout",
     "output_type": "stream",
     "text": [
      "Requirement already satisfied: imbalanced-learn in c:\\users\\91701\\anaconda\\lib\\site-packages (0.10.1)\n",
      "Requirement already satisfied: numpy>=1.17.3 in c:\\users\\91701\\anaconda\\lib\\site-packages (from imbalanced-learn) (1.21.5)\n",
      "Requirement already satisfied: threadpoolctl>=2.0.0 in c:\\users\\91701\\anaconda\\lib\\site-packages (from imbalanced-learn) (2.2.0)\n",
      "Requirement already satisfied: joblib>=1.1.1 in c:\\users\\91701\\anaconda\\lib\\site-packages (from imbalanced-learn) (1.2.0)\n",
      "Requirement already satisfied: scipy>=1.3.2 in c:\\users\\91701\\anaconda\\lib\\site-packages (from imbalanced-learn) (1.7.3)\n",
      "Requirement already satisfied: scikit-learn>=1.0.2 in c:\\users\\91701\\anaconda\\lib\\site-packages (from imbalanced-learn) (1.0.2)\n"
     ]
    }
   ],
   "source": [
    "!pip3 install imbalanced-learn"
   ]
  },
  {
   "cell_type": "code",
   "execution_count": 731,
   "id": "85ac6e0e",
   "metadata": {},
   "outputs": [
    {
     "data": {
      "text/plain": [
       "32    2042\n",
       "31    1947\n",
       "33    1931\n",
       "34    1882\n",
       "35    1834\n",
       "      ... \n",
       "89       3\n",
       "90       2\n",
       "95       2\n",
       "88       2\n",
       "94       1\n",
       "Name: age, Length: 75, dtype: int64"
      ]
     },
     "execution_count": 731,
     "metadata": {},
     "output_type": "execute_result"
    }
   ],
   "source": [
    "df['age'].value_counts()"
   ]
  },
  {
   "cell_type": "code",
   "execution_count": 732,
   "id": "795154a0",
   "metadata": {},
   "outputs": [
    {
     "data": {
      "text/plain": [
       "False    43193\n",
       "Name: age, dtype: int64"
      ]
     },
     "execution_count": 732,
     "metadata": {},
     "output_type": "execute_result"
    }
   ],
   "source": [
    "df['age'].isnull().value_counts() #no null values"
   ]
  },
  {
   "cell_type": "code",
   "execution_count": 733,
   "id": "b82d727d",
   "metadata": {},
   "outputs": [
    {
     "data": {
      "text/plain": [
       "20    2628\n",
       "18    2227\n",
       "21    1961\n",
       "17    1872\n",
       "6     1817\n",
       "5     1796\n",
       "14    1784\n",
       "8     1760\n",
       "28    1740\n",
       "7     1739\n",
       "29    1661\n",
       "19    1657\n",
       "15    1649\n",
       "12    1542\n",
       "13    1529\n",
       "9     1484\n",
       "30    1481\n",
       "11    1397\n",
       "4     1372\n",
       "16    1331\n",
       "2     1244\n",
       "27    1072\n",
       "3     1039\n",
       "26     994\n",
       "23     900\n",
       "22     875\n",
       "25     810\n",
       "31     597\n",
       "10     504\n",
       "24     426\n",
       "1      305\n",
       "Name: day, dtype: int64"
      ]
     },
     "execution_count": 733,
     "metadata": {},
     "output_type": "execute_result"
    }
   ],
   "source": [
    "df['day'].value_counts()"
   ]
  },
  {
   "cell_type": "code",
   "execution_count": 734,
   "id": "77249e2d",
   "metadata": {},
   "outputs": [
    {
     "data": {
      "text/plain": [
       "1     16742\n",
       "2     11938\n",
       "3      5277\n",
       "4      3399\n",
       "5      1703\n",
       "6      1234\n",
       "7       696\n",
       "8       516\n",
       "9       307\n",
       "10      255\n",
       "11      190\n",
       "12      149\n",
       "13      123\n",
       "14       85\n",
       "15       81\n",
       "16       75\n",
       "17       65\n",
       "18       47\n",
       "19       43\n",
       "20       42\n",
       "21       33\n",
       "25       22\n",
       "22       20\n",
       "24       20\n",
       "23       20\n",
       "28       16\n",
       "29       13\n",
       "26       12\n",
       "31       11\n",
       "32        9\n",
       "27        9\n",
       "30        8\n",
       "33        6\n",
       "34        4\n",
       "36        4\n",
       "38        3\n",
       "35        3\n",
       "43        2\n",
       "50        2\n",
       "41        2\n",
       "51        1\n",
       "37        1\n",
       "46        1\n",
       "55        1\n",
       "58        1\n",
       "39        1\n",
       "44        1\n",
       "Name: num_calls, dtype: int64"
      ]
     },
     "execution_count": 734,
     "metadata": {},
     "output_type": "execute_result"
    }
   ],
   "source": [
    "df['num_calls'].value_counts()"
   ]
  },
  {
   "cell_type": "code",
   "execution_count": 735,
   "id": "edd65234",
   "metadata": {},
   "outputs": [
    {
     "data": {
      "text/plain": [
       "(43193, 9)"
      ]
     },
     "execution_count": 735,
     "metadata": {},
     "output_type": "execute_result"
    }
   ],
   "source": [
    "df.shape"
   ]
  },
  {
   "cell_type": "markdown",
   "id": "7a10d8fa",
   "metadata": {},
   "source": [
    "Data Visualization"
   ]
  },
  {
   "cell_type": "code",
   "execution_count": 736,
   "id": "ce58bcb0",
   "metadata": {},
   "outputs": [
    {
     "data": {
      "text/plain": [
       "Text(0.5, 1.0, 'Month when people are contacted')"
      ]
     },
     "execution_count": 736,
     "metadata": {},
     "output_type": "execute_result"
    },
    {
     "data": {
      "image/png": "[encoded data removed]",
      "text/plain": [
       "<Figure size 2160x2160 with 4 Axes>"
      ]
     },
     "metadata": {},
     "output_type": "display_data"
    }
   ],
   "source": [
    "c.set_theme(style='darkgrid',palette='pastel')\n",
    "plt.figure(figsize=(30,30))\n",
    "plt.subplot(321)\n",
    "c.countplot(df[\"job\"],order=df[\"job\"].value_counts().index[::-1])\n",
    "plt.xticks(rotation=15)\n",
    "plt.title('Jobs of Contacted People ')\n",
    "\n",
    "\n",
    "plt.subplot(322)\n",
    "c.countplot(df['marital'],order=df['marital'].value_counts().index[::-1])\n",
    "plt.xticks(rotation=15)\n",
    "plt.title('Marital Status of Contacted People')\n",
    "\n",
    "\n",
    "plt.subplot(323)\n",
    "c.countplot(df['education_qual'],order=df['education_qual'].value_counts().index[::-1])\n",
    "plt.xticks(rotation=15)\n",
    "plt.title(\"Education Qualification of Contacted People\")\n",
    "\n",
    "\n",
    "plt.subplot(324)\n",
    "c.countplot(df[\"mon\"],order=df['mon'].value_counts().index[::-1])\n",
    "plt.xticks(rotation=15)\n",
    "plt.title('Month when people are contacted')\n"
   ]
  },
  {
   "cell_type": "raw",
   "id": "b5f7491f",
   "metadata": {},
   "source": [
    "Intepretation:\n",
    "1.'Blue-collar' job people is contacted more.\n",
    "2.Most of the contacted people are 'married'.\n",
    "3.Most of the contacted people are belong to 'Secondary educated' one.\n",
    "4.Most of the people are contacted in the month of 'may'"
   ]
  },
  {
   "cell_type": "code",
   "execution_count": 737,
   "id": "ceaf35d6",
   "metadata": {},
   "outputs": [],
   "source": [
    "df['y']=df['y'].replace({'no':0,'yes':1})"
   ]
  },
  {
   "cell_type": "code",
   "execution_count": 738,
   "id": "fe42a0d6",
   "metadata": {},
   "outputs": [
    {
     "data": {
      "text/plain": [
       "Text(0.5, 1.0, 'Month vs Count of people taken insurance or not ')"
      ]
     },
     "execution_count": 738,
     "metadata": {},
     "output_type": "execute_result"
    },
    {
     "data": {
      "image/png": "[encoded data removed]",
      "text/plain": [
       "<Figure size 405.725x360 with 1 Axes>"
      ]
     },
     "metadata": {},
     "output_type": "display_data"
    },
    {
     "data": {
      "image/png": "[encoded data removed]",
      "text/plain": [
       "<Figure size 405.725x360 with 1 Axes>"
      ]
     },
     "metadata": {},
     "output_type": "display_data"
    },
    {
     "data": {
      "image/png": "[encoded data removed]",
      "text/plain": [
       "<Figure size 405.725x360 with 1 Axes>"
      ]
     },
     "metadata": {},
     "output_type": "display_data"
    },
    {
     "data": {
      "image/png": "[encoded data removed]",
      "text/plain": [
       "<Figure size 405.725x360 with 1 Axes>"
      ]
     },
     "metadata": {},
     "output_type": "display_data"
    }
   ],
   "source": [
    "c.displot(x=df['job'],hue=df['y'])\n",
    "plt.xticks(rotation=90)\n",
    "plt.title(\"Job vs Count of people taken insurance or not \")\n",
    "\n",
    "c.displot(data=df,x='marital',hue='y')\n",
    "plt.xticks(rotation=90)\n",
    "plt.title(\"Marital vs Count of people taken insurance or not \")\n",
    "\n",
    "c.displot(data=df,x='education_qual',hue='y')\n",
    "plt.xticks(rotation=90)\n",
    "plt.title(\"Education Qualification vs Count of people taken insurance or not \")\n",
    "\n",
    "\n",
    "c.displot(data=df,x='mon',hue='y')\n",
    "plt.xticks(rotation=90)\n",
    "plt.title(\"Month vs Count of people taken insurance or not \")\n"
   ]
  },
  {
   "cell_type": "raw",
   "id": "0a229783",
   "metadata": {},
   "source": [
    "Intepretation:\n",
    "1.According to each job most of the people are not at all interested in Insurance ie. only less number people are accepting the insurance.\n",
    "2.Same for the case in other cases also less no: of people are taking the Insurance.\n",
    "3.So,we need to do undersampling "
   ]
  },
  {
   "cell_type": "code",
   "execution_count": 739,
   "id": "5e05419e",
   "metadata": {},
   "outputs": [
    {
     "data": {
      "text/plain": [
       "Text(0.5, 1.0, 'No: of calls vs Outcome')"
      ]
     },
     "execution_count": 739,
     "metadata": {},
     "output_type": "execute_result"
    },
    {
     "data": {
      "image/png": "[encoded data removed]",
      "text/plain": [
       "<Figure size 2160x1440 with 4 Axes>"
      ]
     },
     "metadata": {},
     "output_type": "display_data"
    }
   ],
   "source": [
    "plt.figure(figsize=(30,20))\n",
    "plt.subplot(321)\n",
    "plt.scatter(df['age'],df['y'])\n",
    "plt.title(\"Age vs Outcome\")\n",
    "\n",
    "plt.subplot(322)\n",
    "plt.scatter(df['day'],df['y'])\n",
    "plt.title(\"Day vs Outcome\")\n",
    "\n",
    "plt.subplot(323)\n",
    "plt.scatter(df['dur'],df['y'])\n",
    "plt.title(\"Duration vs Outcome\")\n",
    "\n",
    "plt.subplot(324)\n",
    "plt.scatter(df[\"num_calls\"],df[\"y\"])\n",
    "plt.title('No: of calls vs Outcome')\n"
   ]
  },
  {
   "cell_type": "raw",
   "id": "a52c7098",
   "metadata": {},
   "source": [
    "Intepretation:\n",
    "All the factors like Age,Day,Duration,No. of calls matters for predicting the outcome\n"
   ]
  },
  {
   "cell_type": "markdown",
   "id": "33e29db6",
   "metadata": {},
   "source": [
    "DataEncoding"
   ]
  },
  {
   "cell_type": "code",
   "execution_count": 740,
   "id": "9c9cdda1",
   "metadata": {},
   "outputs": [],
   "source": [
    "dfjob=pd.get_dummies(df['job'])"
   ]
  },
  {
   "cell_type": "code",
   "execution_count": 741,
   "id": "638d2fec",
   "metadata": {},
   "outputs": [],
   "source": [
    "df['education_qual']=df['education_qual'].replace({'tertiary':1, 'secondary':2, 'primary':3})"
   ]
  },
  {
   "cell_type": "code",
   "execution_count": 742,
   "id": "4513577f",
   "metadata": {},
   "outputs": [],
   "source": [
    "df['mon']=df['mon'].replace({'may':11, 'jun':8, 'jul':10, 'aug':9, 'oct':3, 'nov':7, 'dec':0, 'jan':4, 'feb':5,\n",
    "       'mar':1, 'apr':6, 'sep':2})"
   ]
  },
  {
   "cell_type": "code",
   "execution_count": 743,
   "id": "782638dc",
   "metadata": {},
   "outputs": [],
   "source": [
    "df3=pd.get_dummies(df['marital'])"
   ]
  },
  {
   "cell_type": "code",
   "execution_count": 744,
   "id": "8ac0a4df",
   "metadata": {},
   "outputs": [],
   "source": [
    "df=df.drop(columns=['marital','job'])"
   ]
  },
  {
   "cell_type": "code",
   "execution_count": 745,
   "id": "9cb5164c",
   "metadata": {},
   "outputs": [
    {
     "data": {
      "text/html": [
       "<div>\n",
       "<style scoped>\n",
       "    .dataframe tbody tr th:only-of-type {\n",
       "        vertical-align: middle;\n",
       "    }\n",
       "\n",
       "    .dataframe tbody tr th {\n",
       "        vertical-align: top;\n",
       "    }\n",
       "\n",
       "    .dataframe thead th {\n",
       "        text-align: right;\n",
       "    }\n",
       "</style>\n",
       "<table border=\"1\" class=\"dataframe\">\n",
       "  <thead>\n",
       "    <tr style=\"text-align: right;\">\n",
       "      <th></th>\n",
       "      <th>admin.</th>\n",
       "      <th>blue-collar</th>\n",
       "      <th>entrepreneur</th>\n",
       "      <th>management</th>\n",
       "      <th>retired</th>\n",
       "      <th>self-employed</th>\n",
       "      <th>services</th>\n",
       "      <th>student</th>\n",
       "      <th>technician</th>\n",
       "      <th>unemployed</th>\n",
       "      <th>divorced</th>\n",
       "      <th>married</th>\n",
       "      <th>single</th>\n",
       "      <th>age</th>\n",
       "      <th>education_qual</th>\n",
       "      <th>day</th>\n",
       "      <th>mon</th>\n",
       "      <th>dur</th>\n",
       "      <th>num_calls</th>\n",
       "      <th>y</th>\n",
       "    </tr>\n",
       "  </thead>\n",
       "  <tbody>\n",
       "    <tr>\n",
       "      <th>0</th>\n",
       "      <td>0</td>\n",
       "      <td>0</td>\n",
       "      <td>0</td>\n",
       "      <td>1</td>\n",
       "      <td>0</td>\n",
       "      <td>0</td>\n",
       "      <td>0</td>\n",
       "      <td>0</td>\n",
       "      <td>0</td>\n",
       "      <td>0</td>\n",
       "      <td>0</td>\n",
       "      <td>1</td>\n",
       "      <td>0</td>\n",
       "      <td>58</td>\n",
       "      <td>1</td>\n",
       "      <td>5</td>\n",
       "      <td>11</td>\n",
       "      <td>261</td>\n",
       "      <td>1</td>\n",
       "      <td>0</td>\n",
       "    </tr>\n",
       "    <tr>\n",
       "      <th>1</th>\n",
       "      <td>0</td>\n",
       "      <td>0</td>\n",
       "      <td>0</td>\n",
       "      <td>0</td>\n",
       "      <td>0</td>\n",
       "      <td>0</td>\n",
       "      <td>0</td>\n",
       "      <td>0</td>\n",
       "      <td>1</td>\n",
       "      <td>0</td>\n",
       "      <td>0</td>\n",
       "      <td>0</td>\n",
       "      <td>1</td>\n",
       "      <td>44</td>\n",
       "      <td>2</td>\n",
       "      <td>5</td>\n",
       "      <td>11</td>\n",
       "      <td>151</td>\n",
       "      <td>1</td>\n",
       "      <td>0</td>\n",
       "    </tr>\n",
       "    <tr>\n",
       "      <th>2</th>\n",
       "      <td>0</td>\n",
       "      <td>0</td>\n",
       "      <td>1</td>\n",
       "      <td>0</td>\n",
       "      <td>0</td>\n",
       "      <td>0</td>\n",
       "      <td>0</td>\n",
       "      <td>0</td>\n",
       "      <td>0</td>\n",
       "      <td>0</td>\n",
       "      <td>0</td>\n",
       "      <td>1</td>\n",
       "      <td>0</td>\n",
       "      <td>33</td>\n",
       "      <td>2</td>\n",
       "      <td>5</td>\n",
       "      <td>11</td>\n",
       "      <td>76</td>\n",
       "      <td>1</td>\n",
       "      <td>0</td>\n",
       "    </tr>\n",
       "    <tr>\n",
       "      <th>5</th>\n",
       "      <td>0</td>\n",
       "      <td>0</td>\n",
       "      <td>0</td>\n",
       "      <td>1</td>\n",
       "      <td>0</td>\n",
       "      <td>0</td>\n",
       "      <td>0</td>\n",
       "      <td>0</td>\n",
       "      <td>0</td>\n",
       "      <td>0</td>\n",
       "      <td>0</td>\n",
       "      <td>1</td>\n",
       "      <td>0</td>\n",
       "      <td>35</td>\n",
       "      <td>1</td>\n",
       "      <td>5</td>\n",
       "      <td>11</td>\n",
       "      <td>139</td>\n",
       "      <td>1</td>\n",
       "      <td>0</td>\n",
       "    </tr>\n",
       "    <tr>\n",
       "      <th>6</th>\n",
       "      <td>0</td>\n",
       "      <td>0</td>\n",
       "      <td>0</td>\n",
       "      <td>1</td>\n",
       "      <td>0</td>\n",
       "      <td>0</td>\n",
       "      <td>0</td>\n",
       "      <td>0</td>\n",
       "      <td>0</td>\n",
       "      <td>0</td>\n",
       "      <td>0</td>\n",
       "      <td>0</td>\n",
       "      <td>1</td>\n",
       "      <td>28</td>\n",
       "      <td>1</td>\n",
       "      <td>5</td>\n",
       "      <td>11</td>\n",
       "      <td>217</td>\n",
       "      <td>1</td>\n",
       "      <td>0</td>\n",
       "    </tr>\n",
       "    <tr>\n",
       "      <th>...</th>\n",
       "      <td>...</td>\n",
       "      <td>...</td>\n",
       "      <td>...</td>\n",
       "      <td>...</td>\n",
       "      <td>...</td>\n",
       "      <td>...</td>\n",
       "      <td>...</td>\n",
       "      <td>...</td>\n",
       "      <td>...</td>\n",
       "      <td>...</td>\n",
       "      <td>...</td>\n",
       "      <td>...</td>\n",
       "      <td>...</td>\n",
       "      <td>...</td>\n",
       "      <td>...</td>\n",
       "      <td>...</td>\n",
       "      <td>...</td>\n",
       "      <td>...</td>\n",
       "      <td>...</td>\n",
       "      <td>...</td>\n",
       "    </tr>\n",
       "    <tr>\n",
       "      <th>45206</th>\n",
       "      <td>0</td>\n",
       "      <td>0</td>\n",
       "      <td>0</td>\n",
       "      <td>0</td>\n",
       "      <td>0</td>\n",
       "      <td>0</td>\n",
       "      <td>0</td>\n",
       "      <td>0</td>\n",
       "      <td>1</td>\n",
       "      <td>0</td>\n",
       "      <td>0</td>\n",
       "      <td>1</td>\n",
       "      <td>0</td>\n",
       "      <td>51</td>\n",
       "      <td>1</td>\n",
       "      <td>17</td>\n",
       "      <td>7</td>\n",
       "      <td>977</td>\n",
       "      <td>3</td>\n",
       "      <td>1</td>\n",
       "    </tr>\n",
       "    <tr>\n",
       "      <th>45207</th>\n",
       "      <td>0</td>\n",
       "      <td>0</td>\n",
       "      <td>0</td>\n",
       "      <td>0</td>\n",
       "      <td>1</td>\n",
       "      <td>0</td>\n",
       "      <td>0</td>\n",
       "      <td>0</td>\n",
       "      <td>0</td>\n",
       "      <td>0</td>\n",
       "      <td>1</td>\n",
       "      <td>0</td>\n",
       "      <td>0</td>\n",
       "      <td>71</td>\n",
       "      <td>3</td>\n",
       "      <td>17</td>\n",
       "      <td>7</td>\n",
       "      <td>456</td>\n",
       "      <td>2</td>\n",
       "      <td>1</td>\n",
       "    </tr>\n",
       "    <tr>\n",
       "      <th>45208</th>\n",
       "      <td>0</td>\n",
       "      <td>0</td>\n",
       "      <td>0</td>\n",
       "      <td>0</td>\n",
       "      <td>1</td>\n",
       "      <td>0</td>\n",
       "      <td>0</td>\n",
       "      <td>0</td>\n",
       "      <td>0</td>\n",
       "      <td>0</td>\n",
       "      <td>0</td>\n",
       "      <td>1</td>\n",
       "      <td>0</td>\n",
       "      <td>72</td>\n",
       "      <td>2</td>\n",
       "      <td>17</td>\n",
       "      <td>7</td>\n",
       "      <td>1127</td>\n",
       "      <td>5</td>\n",
       "      <td>1</td>\n",
       "    </tr>\n",
       "    <tr>\n",
       "      <th>45209</th>\n",
       "      <td>0</td>\n",
       "      <td>1</td>\n",
       "      <td>0</td>\n",
       "      <td>0</td>\n",
       "      <td>0</td>\n",
       "      <td>0</td>\n",
       "      <td>0</td>\n",
       "      <td>0</td>\n",
       "      <td>0</td>\n",
       "      <td>0</td>\n",
       "      <td>0</td>\n",
       "      <td>1</td>\n",
       "      <td>0</td>\n",
       "      <td>57</td>\n",
       "      <td>2</td>\n",
       "      <td>17</td>\n",
       "      <td>7</td>\n",
       "      <td>508</td>\n",
       "      <td>4</td>\n",
       "      <td>0</td>\n",
       "    </tr>\n",
       "    <tr>\n",
       "      <th>45210</th>\n",
       "      <td>0</td>\n",
       "      <td>0</td>\n",
       "      <td>1</td>\n",
       "      <td>0</td>\n",
       "      <td>0</td>\n",
       "      <td>0</td>\n",
       "      <td>0</td>\n",
       "      <td>0</td>\n",
       "      <td>0</td>\n",
       "      <td>0</td>\n",
       "      <td>0</td>\n",
       "      <td>1</td>\n",
       "      <td>0</td>\n",
       "      <td>37</td>\n",
       "      <td>2</td>\n",
       "      <td>17</td>\n",
       "      <td>7</td>\n",
       "      <td>361</td>\n",
       "      <td>2</td>\n",
       "      <td>0</td>\n",
       "    </tr>\n",
       "  </tbody>\n",
       "</table>\n",
       "<p>43193 rows × 20 columns</p>\n",
       "</div>"
      ],
      "text/plain": [
       "       admin.  blue-collar  entrepreneur  management  retired  self-employed  \\\n",
       "0           0            0             0           1        0              0   \n",
       "1           0            0             0           0        0              0   \n",
       "2           0            0             1           0        0              0   \n",
       "5           0            0             0           1        0              0   \n",
       "6           0            0             0           1        0              0   \n",
       "...       ...          ...           ...         ...      ...            ...   \n",
       "45206       0            0             0           0        0              0   \n",
       "45207       0            0             0           0        1              0   \n",
       "45208       0            0             0           0        1              0   \n",
       "45209       0            1             0           0        0              0   \n",
       "45210       0            0             1           0        0              0   \n",
       "\n",
       "       services  student  technician  unemployed  divorced  married  single  \\\n",
       "0             0        0           0           0         0        1       0   \n",
       "1             0        0           1           0         0        0       1   \n",
       "2             0        0           0           0         0        1       0   \n",
       "5             0        0           0           0         0        1       0   \n",
       "6             0        0           0           0         0        0       1   \n",
       "...         ...      ...         ...         ...       ...      ...     ...   \n",
       "45206         0        0           1           0         0        1       0   \n",
       "45207         0        0           0           0         1        0       0   \n",
       "45208         0        0           0           0         0        1       0   \n",
       "45209         0        0           0           0         0        1       0   \n",
       "45210         0        0           0           0         0        1       0   \n",
       "\n",
       "       age  education_qual  day  mon   dur  num_calls  y  \n",
       "0       58               1    5   11   261          1  0  \n",
       "1       44               2    5   11   151          1  0  \n",
       "2       33               2    5   11    76          1  0  \n",
       "5       35               1    5   11   139          1  0  \n",
       "6       28               1    5   11   217          1  0  \n",
       "...    ...             ...  ...  ...   ...        ... ..  \n",
       "45206   51               1   17    7   977          3  1  \n",
       "45207   71               3   17    7   456          2  1  \n",
       "45208   72               2   17    7  1127          5  1  \n",
       "45209   57               2   17    7   508          4  0  \n",
       "45210   37               2   17    7   361          2  0  \n",
       "\n",
       "[43193 rows x 20 columns]"
      ]
     },
     "execution_count": 745,
     "metadata": {},
     "output_type": "execute_result"
    }
   ],
   "source": [
    "dfn=pd.concat([dfjob,df3,df],axis=1)\n",
    "dfn"
   ]
  },
  {
   "cell_type": "raw",
   "id": "f1ce0611",
   "metadata": {},
   "source": [
    "We use one hot encoding for Job,Marital as there is no much higher importance for each Job and Marital Status\n",
    "We use label encoding for Education_qualification as more educated people have more knowledge about the insurance and they can close the deal as soon as possible. \n",
    "and also for Month we can use label encoding "
   ]
  },
  {
   "cell_type": "code",
   "execution_count": 746,
   "id": "538c18f5",
   "metadata": {},
   "outputs": [
    {
     "data": {
      "text/plain": [
       "Index(['admin.', 'blue-collar', 'entrepreneur', 'management', 'retired',\n",
       "       'self-employed', 'services', 'student', 'technician', 'unemployed',\n",
       "       'divorced', 'married', 'single', 'age', 'education_qual', 'day', 'mon',\n",
       "       'dur', 'num_calls', 'y'],\n",
       "      dtype='object')"
      ]
     },
     "execution_count": 746,
     "metadata": {},
     "output_type": "execute_result"
    }
   ],
   "source": [
    "dfn.columns"
   ]
  },
  {
   "cell_type": "markdown",
   "id": "32781995",
   "metadata": {},
   "source": [
    "Train Test Split"
   ]
  },
  {
   "cell_type": "code",
   "execution_count": 747,
   "id": "f7a7913e",
   "metadata": {},
   "outputs": [],
   "source": [
    "x=dfn.loc[:,['admin.', 'blue-collar', 'entrepreneur', 'management', 'retired',\n",
    "       'self-employed', 'services', 'student', 'technician', 'unemployed',\n",
    "        'divorced', 'married', 'single', 'age', 'education_qual',\n",
    "       'day', 'mon', 'dur', 'num_calls']]"
   ]
  },
  {
   "cell_type": "code",
   "execution_count": 748,
   "id": "6184770a",
   "metadata": {},
   "outputs": [],
   "source": [
    "y=dfn.loc[:,['y']]"
   ]
  },
  {
   "cell_type": "code",
   "execution_count": 749,
   "id": "b5452766",
   "metadata": {},
   "outputs": [
    {
     "data": {
      "text/plain": [
       "y\n",
       "0    38172\n",
       "1     5021\n",
       "dtype: int64"
      ]
     },
     "execution_count": 749,
     "metadata": {},
     "output_type": "execute_result"
    }
   ],
   "source": [
    "pd.DataFrame(y).value_counts()"
   ]
  },
  {
   "cell_type": "code",
   "execution_count": 750,
   "id": "dcd0c309",
   "metadata": {},
   "outputs": [],
   "source": [
    "x_train,x_test,y_train,y_test=train_test_split(x,y,test_size=0.3,random_state=1)"
   ]
  },
  {
   "cell_type": "markdown",
   "id": "d1c19c2a",
   "metadata": {},
   "source": [
    "Balancing the data"
   ]
  },
  {
   "cell_type": "code",
   "execution_count": 751,
   "id": "9c1643fc",
   "metadata": {},
   "outputs": [],
   "source": [
    "undersample = RandomUnderSampler(sampling_strategy='majority')\n",
    "X_over, y_over = undersample.fit_resample(x_train, y_train)"
   ]
  },
  {
   "cell_type": "markdown",
   "id": "7d33af6b",
   "metadata": {},
   "source": [
    "Modeling"
   ]
  },
  {
   "cell_type": "code",
   "execution_count": 769,
   "id": "8ca5325d",
   "metadata": {},
   "outputs": [],
   "source": [
    "kf=StratifiedKFold(n_splits=10)"
   ]
  },
  {
   "cell_type": "code",
   "execution_count": 752,
   "id": "04b80d2b",
   "metadata": {},
   "outputs": [],
   "source": [
    "model1=LogisticRegression(max_iter=10000)"
   ]
  },
  {
   "cell_type": "code",
   "execution_count": 753,
   "id": "afec4fd8",
   "metadata": {},
   "outputs": [],
   "source": [
    "model1.fit(X_over,np.array(y_over).reshape(y_over.shape[0],))\n",
    "y_pred1=model1.predict(x_test)"
   ]
  },
  {
   "cell_type": "code",
   "execution_count": 770,
   "id": "d3fde54c",
   "metadata": {},
   "outputs": [
    {
     "data": {
      "text/plain": [
       "0.8914182635015967"
      ]
     },
     "execution_count": 770,
     "metadata": {},
     "output_type": "execute_result"
    }
   ],
   "source": [
    "cross_val_score(model1,x_test,y_test,cv=kf,scoring='accuracy').mean()"
   ]
  },
  {
   "cell_type": "code",
   "execution_count": 755,
   "id": "c845f355",
   "metadata": {},
   "outputs": [],
   "source": [
    "from sklearn.tree import DecisionTreeClassifier\n",
    "model2=DecisionTreeClassifier(random_state=1)"
   ]
  },
  {
   "cell_type": "code",
   "execution_count": 756,
   "id": "40017ddb",
   "metadata": {},
   "outputs": [],
   "source": [
    "model2=DecisionTreeClassifier(max_depth= 15,random_state=1)\n",
    "model2.fit(X_over,np.array(y_over).reshape(y_over.shape[0],))\n",
    "y_pred2=model2.predict(x_test)"
   ]
  },
  {
   "cell_type": "code",
   "execution_count": 771,
   "id": "dc0c422d",
   "metadata": {},
   "outputs": [
    {
     "data": {
      "text/plain": [
       "0.8718934410601078"
      ]
     },
     "execution_count": 771,
     "metadata": {},
     "output_type": "execute_result"
    }
   ],
   "source": [
    "cross_val_score(model2,x_test,y_test,cv=kf,scoring='accuracy').mean()"
   ]
  },
  {
   "cell_type": "code",
   "execution_count": 758,
   "id": "eaac8f8d",
   "metadata": {},
   "outputs": [],
   "source": [
    "from sklearn.ensemble import RandomForestClassifier"
   ]
  },
  {
   "cell_type": "code",
   "execution_count": 759,
   "id": "7a5fe933",
   "metadata": {},
   "outputs": [],
   "source": [
    "model3=RandomForestClassifier(max_depth= 15,random_state=1)\n",
    "model3.fit(X_over,np.array(y_over).reshape(y_over.shape[0],))\n",
    "y_pred3=model3.predict(x_test)"
   ]
  },
  {
   "cell_type": "code",
   "execution_count": 772,
   "id": "eaf855a1",
   "metadata": {},
   "outputs": [
    {
     "data": {
      "text/plain": [
       "0.8939654535487869"
      ]
     },
     "execution_count": 772,
     "metadata": {},
     "output_type": "execute_result"
    }
   ],
   "source": [
    "cross_val_score(model3,x_test,y_test,cv=kf,scoring='accuracy').mean()"
   ]
  },
  {
   "cell_type": "code",
   "execution_count": 761,
   "id": "8afb1810",
   "metadata": {},
   "outputs": [
    {
     "data": {
      "text/plain": [
       "AdaBoostClassifier(base_estimator=RandomForestClassifier(), learning_rate=0.005,\n",
       "                   n_estimators=200, random_state=1)"
      ]
     },
     "execution_count": 761,
     "metadata": {},
     "output_type": "execute_result"
    }
   ],
   "source": [
    "model4 = AdaBoostClassifier(random_state=1,base_estimator = RandomForestClassifier(),n_estimators=200,learning_rate = 0.005)\n",
    "model4.fit(X_over,np.array(y_over).reshape(y_over.shape[0],))"
   ]
  },
  {
   "cell_type": "code",
   "execution_count": 762,
   "id": "860ab792",
   "metadata": {},
   "outputs": [],
   "source": [
    "y_pred4=model4.predict(x_test)"
   ]
  },
  {
   "cell_type": "code",
   "execution_count": 773,
   "id": "383caec4",
   "metadata": {},
   "outputs": [
    {
     "data": {
      "text/plain": [
       "0.8951225630392298"
      ]
     },
     "execution_count": 773,
     "metadata": {},
     "output_type": "execute_result"
    }
   ],
   "source": [
    "cross_val_score(model4,x_test,y_test,cv=kf,scoring='accuracy').mean()"
   ]
  },
  {
   "cell_type": "code",
   "execution_count": 764,
   "id": "bb6b6232",
   "metadata": {},
   "outputs": [],
   "source": [
    "from xgboost import XGBClassifier\n",
    "model6=XGBClassifier(random_state=1)\n",
    "model6.fit(X_over,np.array(y_over).reshape(y_over.shape[0],))\n",
    "y_pred6=model6.predict(x_test)"
   ]
  },
  {
   "cell_type": "code",
   "execution_count": 774,
   "id": "db1af91c",
   "metadata": {},
   "outputs": [
    {
     "data": {
      "text/plain": [
       "0.8958945254778587"
      ]
     },
     "execution_count": 774,
     "metadata": {},
     "output_type": "execute_result"
    }
   ],
   "source": [
    "cross_val_score(model6,x_test,y_test,cv=kf,scoring='accuracy').mean()"
   ]
  },
  {
   "cell_type": "code",
   "execution_count": 779,
   "id": "6b7af5f3",
   "metadata": {},
   "outputs": [
    {
     "name": "stdout",
     "output_type": "stream",
     "text": [
      "0.7858490820433092\n",
      "0.7607700905310609\n",
      "0.8241610115748834\n",
      "0.8168315151492609\n",
      "0.8260473465546869\n"
     ]
    }
   ],
   "source": [
    "print(roc_auc_score(y_test,y_pred1)) #LogisticRegression\n",
    "print(roc_auc_score(y_test,y_pred2)) #DecisionTreeClassifier\n",
    "print(roc_auc_score(y_test,y_pred3)) #RandomForestClassifier\n",
    "print(roc_auc_score(y_test,y_pred4)) #AdaBoostClassifier\n",
    "print(roc_auc_score(y_test,y_pred6)) #XGBClassifier"
   ]
  },
  {
   "cell_type": "code",
   "execution_count": 775,
   "id": "5fc6b73d",
   "metadata": {},
   "outputs": [
    {
     "data": {
      "image/png": "[encoded data removed]",
      "text/plain": [
       "<Figure size 1440x360 with 1 Axes>"
      ]
     },
     "metadata": {},
     "output_type": "display_data"
    }
   ],
   "source": [
    "sorted_idx = model6.feature_importances_.argsort()\n",
    "plt.figure(figsize=(20,5))\n",
    "plt.barh(dfn.columns[sorted_idx], model6.feature_importances_[sorted_idx])\n",
    "plt.xlabel(\"XGBClassifier Feature Importance\")\n",
    "plt.title(\"Feature Importance\")\n",
    "plt.show()"
   ]
  },
  {
   "cell_type": "code",
   "execution_count": 776,
   "id": "70571987",
   "metadata": {},
   "outputs": [
    {
     "data": {
      "image/png": "[encoded data removed]",
      "text/plain": [
       "<Figure size 1440x360 with 1 Axes>"
      ]
     },
     "metadata": {},
     "output_type": "display_data"
    }
   ],
   "source": [
    "sorted_idx = model4.feature_importances_.argsort()\n",
    "plt.figure(figsize=(20,5))\n",
    "plt.barh(dfn.columns[sorted_idx], model4.feature_importances_[sorted_idx])\n",
    "plt.xlabel(\"AdaBoostClassifier Feature Importance\")\n",
    "plt.title(\"Feature Importance\")\n",
    "plt.show()"
   ]
  },
  {
   "cell_type": "code",
   "execution_count": 777,
   "id": "2873160d",
   "metadata": {},
   "outputs": [
    {
     "data": {
      "image/png": "[encoded data removed]",
      "text/plain": [
       "<Figure size 1440x360 with 1 Axes>"
      ]
     },
     "metadata": {},
     "output_type": "display_data"
    }
   ],
   "source": [
    "sorted_idx = model3.feature_importances_.argsort()\n",
    "plt.figure(figsize=(20,5))\n",
    "plt.barh(dfn.columns[sorted_idx], model3.feature_importances_[sorted_idx])\n",
    "plt.xlabel(\"RandomForestClassifier Feature Importance\")\n",
    "plt.title(\"Feature Importance\")\n",
    "plt.show()"
   ]
  },
  {
   "cell_type": "code",
   "execution_count": 778,
   "id": "1aaf71d7",
   "metadata": {},
   "outputs": [
    {
     "data": {
      "image/png": "[encoded data removed]",
      "text/plain": [
       "<Figure size 1440x360 with 1 Axes>"
      ]
     },
     "metadata": {},
     "output_type": "display_data"
    }
   ],
   "source": [
    "sorted_idx = model2.feature_importances_.argsort()\n",
    "plt.figure(figsize=(20,5))\n",
    "plt.barh(dfn.columns[sorted_idx], model2.feature_importances_[sorted_idx])\n",
    "plt.xlabel(\"DecisionTreeClassifier Feature Importance\")\n",
    "plt.title(\"Feature Importance\")\n",
    "plt.show()"
   ]
  },
  {
   "cell_type": "raw",
   "id": "9cc09209",
   "metadata": {},
   "source": [
    "Out of all 4 models \n",
    "XGBclassifier is the best it gives cross_val_score of 89.58 % \n",
    "AdaBoostClassifier of 89.51%\n",
    "RandomForestClassifier gives 89.39%\n",
    "LogisticRegression which gives 89.14%\n",
    "least performed model is DecisionTreeClassifier of 87.18%\n",
    "\n",
    "So according Extreme Gradient Boosting the feature importance should be:\n",
    "1.Month\n",
    "2.Duration \n",
    "3.Student (Job)\n",
    "4.Education Qualification\n",
    "5.Blue-Collar (Job)\n",
    "6.Day\n",
    "7.Single (Marital)\n",
    "8.Services (Job)\n",
    "9.Management (Job)\n",
    "10.Age\n",
    "11.Married (Marital)\n",
    "12.Number of calls\n",
    "13.Entrepreneur (Job)\n",
    "14.Divorced (Marital)\n",
    "15.Technician (Job)\n",
    "16.Admin. (Job)\n",
    "17.Unemployed (Job)\n",
    "18.Self-Employed (Job)\n",
    "19.Retired (Job)"
   ]
  },
  {
   "cell_type": "code",
   "execution_count": null,
   "id": "edc6c1b0",
   "metadata": {},
   "outputs": [],
   "source": []
  }
 ],
 "metadata": {
  "kernelspec": {
   "display_name": "Python 3 (ipykernel)",
   "language": "python",
   "name": "python3"
  },
  "language_info": {
   "codemirror_mode": {
    "name": "ipython",
    "version": 3
   },
   "file_extension": ".py",
   "mimetype": "text/x-python",
   "name": "python",
   "nbconvert_exporter": "python",
   "pygments_lexer": "ipython3",
   "version": "3.9.12"
  }
 },
 "nbformat": 4,
 "nbformat_minor": 5
}
